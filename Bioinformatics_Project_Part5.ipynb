{
  "nbformat": 4,
  "nbformat_minor": 0,
  "metadata": {
    "colab": {
      "provenance": [],
      "authorship_tag": "ABX9TyNwSsQXrCtSJhPsOoonn131",
      "include_colab_link": true
    },
    "kernelspec": {
      "name": "python3",
      "display_name": "Python 3"
    },
    "language_info": {
      "name": "python"
    },
    "accelerator": "GPU",
    "gpuClass": "standard"
  },
  "cells": [
    {
      "cell_type": "markdown",
      "metadata": {
        "id": "view-in-github",
        "colab_type": "text"
      },
      "source": [
        "<a href=\"https://colab.research.google.com/github/rogerioribeiromacedo/BioInformaticsProject/blob/main/Bioinformatics_Project_Part5.ipynb\" target=\"_parent\"><img src=\"https://colab.research.google.com/assets/colab-badge.svg\" alt=\"Open In Colab\"/></a>"
      ]
    },
    {
      "cell_type": "markdown",
      "source": [
        "In this part, we will be comparing several ML algorithms for build regression models of acetylcholinesterase innhibitors.\n",
        "\n"
      ],
      "metadata": {
        "id": "SISKvuSrgZ8n"
      }
    },
    {
      "cell_type": "markdown",
      "source": [
        "#1. Import libraries"
      ],
      "metadata": {
        "id": "sY00YpangsSz"
      }
    },
    {
      "cell_type": "code",
      "execution_count": 1,
      "metadata": {
        "id": "o6X3h3y1gOW6"
      },
      "outputs": [],
      "source": [
        "! pip install lazypredict &> /dev/null"
      ]
    },
    {
      "cell_type": "code",
      "source": [
        "import pandas as pd\n",
        "import seaborn as sns\n",
        "import numpy as np\n",
        "import matplotlib.pyplot as plt\n",
        "import lazypredict\n",
        "\n",
        "from sklearn.model_selection import train_test_split\n",
        "from lazypredict.Supervised import LazyRegressor"
      ],
      "metadata": {
        "id": "CKoYCVSwhE5Y"
      },
      "execution_count": 2,
      "outputs": []
    },
    {
      "cell_type": "markdown",
      "source": [
        "#2. Load the data set"
      ],
      "metadata": {
        "id": "WlMln2IbhciF"
      }
    },
    {
      "cell_type": "code",
      "source": [
        "! wget https://raw.githubusercontent.com/rogerioribeiromacedo/BioInformaticsProject/main/data/acetylcholinesterase_06_bioactivity_data_3class_pIC50_pubchem_fp.csv &> /dev/null"
      ],
      "metadata": {
        "id": "rKivw0VJhfFb"
      },
      "execution_count": 3,
      "outputs": []
    },
    {
      "cell_type": "code",
      "source": [
        "df = pd.read_csv('acetylcholinesterase_06_bioactivity_data_3class_pIC50_pubchem_fp.csv')\n"
      ],
      "metadata": {
        "id": "GAA_Sjo6oomX"
      },
      "execution_count": 3,
      "outputs": []
    },
    {
      "cell_type": "code",
      "source": [
        "X = df.drop('pIC50', axis=1)\n",
        "Y = df.pIC50"
      ],
      "metadata": {
        "id": "PAD5iXTkoxIm"
      },
      "execution_count": 4,
      "outputs": []
    },
    {
      "cell_type": "markdown",
      "source": [
        "# 3. Data pre-processing"
      ],
      "metadata": {
        "id": "kt_lc1tuo4nU"
      }
    },
    {
      "cell_type": "code",
      "source": [
        "# Examine X dimension\n",
        "X.shape"
      ],
      "metadata": {
        "colab": {
          "base_uri": "https://localhost:8080/"
        },
        "id": "a_5vn0tco60v",
        "outputId": "876d89cd-b8b2-40a5-964e-da92a1957e21"
      },
      "execution_count": 5,
      "outputs": [
        {
          "output_type": "execute_result",
          "data": {
            "text/plain": [
              "(5823, 881)"
            ]
          },
          "metadata": {},
          "execution_count": 5
        }
      ]
    },
    {
      "cell_type": "code",
      "source": [
        "# Remove low variance features\n",
        "from sklearn.feature_selection import VarianceThreshold\n",
        "selection = VarianceThreshold(threshold=(.8 * (1 - .8)))\n",
        "X = selection.fit_transform(X)\n",
        "X.shape"
      ],
      "metadata": {
        "colab": {
          "base_uri": "https://localhost:8080/"
        },
        "id": "yvODP8llpAH-",
        "outputId": "5c947b05-9b7f-4ad7-ab1d-63d3064ed5c5"
      },
      "execution_count": 6,
      "outputs": [
        {
          "output_type": "execute_result",
          "data": {
            "text/plain": [
              "(5823, 143)"
            ]
          },
          "metadata": {},
          "execution_count": 6
        }
      ]
    },
    {
      "cell_type": "code",
      "source": [
        "# Perform data splitting using 80/20 ration\n",
        "X_train, X_test, Y_train, Y_test = train_test_split(X, Y, test_size=0.2)"
      ],
      "metadata": {
        "id": "N2aDBuzppUkv"
      },
      "execution_count": 7,
      "outputs": []
    },
    {
      "cell_type": "markdown",
      "source": [
        "#4. Compare ML algorithms"
      ],
      "metadata": {
        "id": "F_R3QFEMpizW"
      }
    },
    {
      "cell_type": "code",
      "source": [
        "lazypredict.Supervised.REGRESSORS"
      ],
      "metadata": {
        "colab": {
          "base_uri": "https://localhost:8080/"
        },
        "id": "RtlSVIDO4kdy",
        "outputId": "fe55c368-cb65-4ad2-d1f4-8836e796737b"
      },
      "execution_count": 11,
      "outputs": [
        {
          "output_type": "execute_result",
          "data": {
            "text/plain": [
              "[('AdaBoostRegressor', sklearn.ensemble._weight_boosting.AdaBoostRegressor),\n",
              " ('BaggingRegressor', sklearn.ensemble._bagging.BaggingRegressor),\n",
              " ('BayesianRidge', sklearn.linear_model._bayes.BayesianRidge),\n",
              " ('DecisionTreeRegressor', sklearn.tree._classes.DecisionTreeRegressor),\n",
              " ('DummyRegressor', sklearn.dummy.DummyRegressor),\n",
              " ('ElasticNet', sklearn.linear_model._coordinate_descent.ElasticNet),\n",
              " ('ElasticNetCV', sklearn.linear_model._coordinate_descent.ElasticNetCV),\n",
              " ('ExtraTreeRegressor', sklearn.tree._classes.ExtraTreeRegressor),\n",
              " ('ExtraTreesRegressor', sklearn.ensemble._forest.ExtraTreesRegressor),\n",
              " ('GammaRegressor', sklearn.linear_model._glm.glm.GammaRegressor),\n",
              " ('GaussianProcessRegressor',\n",
              "  sklearn.gaussian_process._gpr.GaussianProcessRegressor),\n",
              " ('GradientBoostingRegressor', sklearn.ensemble._gb.GradientBoostingRegressor),\n",
              " ('HistGradientBoostingRegressor',\n",
              "  sklearn.ensemble._hist_gradient_boosting.gradient_boosting.HistGradientBoostingRegressor),\n",
              " ('HuberRegressor', sklearn.linear_model._huber.HuberRegressor),\n",
              " ('KNeighborsRegressor', sklearn.neighbors._regression.KNeighborsRegressor),\n",
              " ('KernelRidge', sklearn.kernel_ridge.KernelRidge),\n",
              " ('Lars', sklearn.linear_model._least_angle.Lars),\n",
              " ('LarsCV', sklearn.linear_model._least_angle.LarsCV),\n",
              " ('Lasso', sklearn.linear_model._coordinate_descent.Lasso),\n",
              " ('LassoCV', sklearn.linear_model._coordinate_descent.LassoCV),\n",
              " ('LassoLars', sklearn.linear_model._least_angle.LassoLars),\n",
              " ('LassoLarsCV', sklearn.linear_model._least_angle.LassoLarsCV),\n",
              " ('LassoLarsIC', sklearn.linear_model._least_angle.LassoLarsIC),\n",
              " ('LinearRegression', sklearn.linear_model._base.LinearRegression),\n",
              " ('LinearSVR', sklearn.svm._classes.LinearSVR),\n",
              " ('MLPRegressor', sklearn.neural_network._multilayer_perceptron.MLPRegressor),\n",
              " ('NuSVR', sklearn.svm._classes.NuSVR),\n",
              " ('OrthogonalMatchingPursuit',\n",
              "  sklearn.linear_model._omp.OrthogonalMatchingPursuit),\n",
              " ('OrthogonalMatchingPursuitCV',\n",
              "  sklearn.linear_model._omp.OrthogonalMatchingPursuitCV),\n",
              " ('PassiveAggressiveRegressor',\n",
              "  sklearn.linear_model._passive_aggressive.PassiveAggressiveRegressor),\n",
              " ('PoissonRegressor', sklearn.linear_model._glm.glm.PoissonRegressor),\n",
              " ('QuantileRegressor', sklearn.linear_model._quantile.QuantileRegressor),\n",
              " ('RANSACRegressor', sklearn.linear_model._ransac.RANSACRegressor),\n",
              " ('RandomForestRegressor', sklearn.ensemble._forest.RandomForestRegressor),\n",
              " ('Ridge', sklearn.linear_model._ridge.Ridge),\n",
              " ('RidgeCV', sklearn.linear_model._ridge.RidgeCV),\n",
              " ('SGDRegressor', sklearn.linear_model._stochastic_gradient.SGDRegressor),\n",
              " ('SVR', sklearn.svm._classes.SVR),\n",
              " ('TransformedTargetRegressor',\n",
              "  sklearn.compose._target.TransformedTargetRegressor),\n",
              " ('TweedieRegressor', sklearn.linear_model._glm.glm.TweedieRegressor),\n",
              " ('XGBRegressor', xgboost.sklearn.XGBRegressor),\n",
              " ('LGBMRegressor', lightgbm.sklearn.LGBMRegressor)]"
            ]
          },
          "metadata": {},
          "execution_count": 11
        }
      ]
    },
    {
      "cell_type": "code",
      "source": [
        "lazypredict.Supervised.REGRESSORS = lazypredict.Supervised.REGRESSORS[:10]\n",
        "lazypredict.Supervised.REGRESSORS"
      ],
      "metadata": {
        "colab": {
          "base_uri": "https://localhost:8080/"
        },
        "id": "qfB_b4fr3SAQ",
        "outputId": "db83b0a5-4477-4251-d9e7-f115d809b2b1"
      },
      "execution_count": 12,
      "outputs": [
        {
          "output_type": "execute_result",
          "data": {
            "text/plain": [
              "[('AdaBoostRegressor', sklearn.ensemble._weight_boosting.AdaBoostRegressor),\n",
              " ('BaggingRegressor', sklearn.ensemble._bagging.BaggingRegressor),\n",
              " ('BayesianRidge', sklearn.linear_model._bayes.BayesianRidge),\n",
              " ('DecisionTreeRegressor', sklearn.tree._classes.DecisionTreeRegressor),\n",
              " ('DummyRegressor', sklearn.dummy.DummyRegressor),\n",
              " ('ElasticNet', sklearn.linear_model._coordinate_descent.ElasticNet),\n",
              " ('ElasticNetCV', sklearn.linear_model._coordinate_descent.ElasticNetCV),\n",
              " ('ExtraTreeRegressor', sklearn.tree._classes.ExtraTreeRegressor),\n",
              " ('ExtraTreesRegressor', sklearn.ensemble._forest.ExtraTreesRegressor),\n",
              " ('GammaRegressor', sklearn.linear_model._glm.glm.GammaRegressor)]"
            ]
          },
          "metadata": {},
          "execution_count": 12
        }
      ]
    },
    {
      "cell_type": "code",
      "source": [
        "clf = LazyRegressor(verbose=0, ignore_warnings=True, custom_metric=None)\n",
        "models, predictions = clf.fit(X_train, X_test, Y_train, Y_test)"
      ],
      "metadata": {
        "colab": {
          "base_uri": "https://localhost:8080/"
        },
        "id": "pkFYbjCmpn4q",
        "outputId": "28f00f9e-8d6b-4035-f4fe-188c57d0b13c"
      },
      "execution_count": 13,
      "outputs": [
        {
          "output_type": "stream",
          "name": "stderr",
          "text": [
            "100%|██████████| 10/10 [00:13<00:00,  1.33s/it]\n"
          ]
        }
      ]
    },
    {
      "cell_type": "code",
      "source": [
        "# Performance table of the training set (80% subset)\n",
        "models"
      ],
      "metadata": {
        "colab": {
          "base_uri": "https://localhost:8080/",
          "height": 394
        },
        "id": "IcLLhCf3rlNI",
        "outputId": "d82af9a5-6aa7-4b73-d64c-44927b78a721"
      },
      "execution_count": 15,
      "outputs": [
        {
          "output_type": "execute_result",
          "data": {
            "text/plain": [
              "                       Adjusted R-Squared  R-Squared  RMSE  Time Taken\n",
              "Model                                                                 \n",
              "BaggingRegressor                     0.38       0.46  1.16        0.53\n",
              "ExtraTreesRegressor                  0.17       0.27  1.35        7.83\n",
              "ElasticNetCV                         0.15       0.26  1.36        3.66\n",
              "BayesianRidge                        0.15       0.26  1.36        0.14\n",
              "DecisionTreeRegressor                0.12       0.23  1.38        0.17\n",
              "ExtraTreeRegressor                   0.10       0.21  1.40        0.15\n",
              "GammaRegressor                       0.09       0.21  1.40        0.06\n",
              "AdaBoostRegressor                    0.03       0.15  1.45        0.64\n",
              "DummyRegressor                      -0.14      -0.00  1.57        0.03\n",
              "ElasticNet                          -0.14      -0.00  1.57        0.04"
            ],
            "text/html": [
              "\n",
              "  <div id=\"df-378fe6e4-383e-4069-b58a-42bc7735e2c8\">\n",
              "    <div class=\"colab-df-container\">\n",
              "      <div>\n",
              "<style scoped>\n",
              "    .dataframe tbody tr th:only-of-type {\n",
              "        vertical-align: middle;\n",
              "    }\n",
              "\n",
              "    .dataframe tbody tr th {\n",
              "        vertical-align: top;\n",
              "    }\n",
              "\n",
              "    .dataframe thead th {\n",
              "        text-align: right;\n",
              "    }\n",
              "</style>\n",
              "<table border=\"1\" class=\"dataframe\">\n",
              "  <thead>\n",
              "    <tr style=\"text-align: right;\">\n",
              "      <th></th>\n",
              "      <th>Adjusted R-Squared</th>\n",
              "      <th>R-Squared</th>\n",
              "      <th>RMSE</th>\n",
              "      <th>Time Taken</th>\n",
              "    </tr>\n",
              "    <tr>\n",
              "      <th>Model</th>\n",
              "      <th></th>\n",
              "      <th></th>\n",
              "      <th></th>\n",
              "      <th></th>\n",
              "    </tr>\n",
              "  </thead>\n",
              "  <tbody>\n",
              "    <tr>\n",
              "      <th>BaggingRegressor</th>\n",
              "      <td>0.38</td>\n",
              "      <td>0.46</td>\n",
              "      <td>1.16</td>\n",
              "      <td>0.53</td>\n",
              "    </tr>\n",
              "    <tr>\n",
              "      <th>ExtraTreesRegressor</th>\n",
              "      <td>0.17</td>\n",
              "      <td>0.27</td>\n",
              "      <td>1.35</td>\n",
              "      <td>7.83</td>\n",
              "    </tr>\n",
              "    <tr>\n",
              "      <th>ElasticNetCV</th>\n",
              "      <td>0.15</td>\n",
              "      <td>0.26</td>\n",
              "      <td>1.36</td>\n",
              "      <td>3.66</td>\n",
              "    </tr>\n",
              "    <tr>\n",
              "      <th>BayesianRidge</th>\n",
              "      <td>0.15</td>\n",
              "      <td>0.26</td>\n",
              "      <td>1.36</td>\n",
              "      <td>0.14</td>\n",
              "    </tr>\n",
              "    <tr>\n",
              "      <th>DecisionTreeRegressor</th>\n",
              "      <td>0.12</td>\n",
              "      <td>0.23</td>\n",
              "      <td>1.38</td>\n",
              "      <td>0.17</td>\n",
              "    </tr>\n",
              "    <tr>\n",
              "      <th>ExtraTreeRegressor</th>\n",
              "      <td>0.10</td>\n",
              "      <td>0.21</td>\n",
              "      <td>1.40</td>\n",
              "      <td>0.15</td>\n",
              "    </tr>\n",
              "    <tr>\n",
              "      <th>GammaRegressor</th>\n",
              "      <td>0.09</td>\n",
              "      <td>0.21</td>\n",
              "      <td>1.40</td>\n",
              "      <td>0.06</td>\n",
              "    </tr>\n",
              "    <tr>\n",
              "      <th>AdaBoostRegressor</th>\n",
              "      <td>0.03</td>\n",
              "      <td>0.15</td>\n",
              "      <td>1.45</td>\n",
              "      <td>0.64</td>\n",
              "    </tr>\n",
              "    <tr>\n",
              "      <th>DummyRegressor</th>\n",
              "      <td>-0.14</td>\n",
              "      <td>-0.00</td>\n",
              "      <td>1.57</td>\n",
              "      <td>0.03</td>\n",
              "    </tr>\n",
              "    <tr>\n",
              "      <th>ElasticNet</th>\n",
              "      <td>-0.14</td>\n",
              "      <td>-0.00</td>\n",
              "      <td>1.57</td>\n",
              "      <td>0.04</td>\n",
              "    </tr>\n",
              "  </tbody>\n",
              "</table>\n",
              "</div>\n",
              "      <button class=\"colab-df-convert\" onclick=\"convertToInteractive('df-378fe6e4-383e-4069-b58a-42bc7735e2c8')\"\n",
              "              title=\"Convert this dataframe to an interactive table.\"\n",
              "              style=\"display:none;\">\n",
              "        \n",
              "  <svg xmlns=\"http://www.w3.org/2000/svg\" height=\"24px\"viewBox=\"0 0 24 24\"\n",
              "       width=\"24px\">\n",
              "    <path d=\"M0 0h24v24H0V0z\" fill=\"none\"/>\n",
              "    <path d=\"M18.56 5.44l.94 2.06.94-2.06 2.06-.94-2.06-.94-.94-2.06-.94 2.06-2.06.94zm-11 1L8.5 8.5l.94-2.06 2.06-.94-2.06-.94L8.5 2.5l-.94 2.06-2.06.94zm10 10l.94 2.06.94-2.06 2.06-.94-2.06-.94-.94-2.06-.94 2.06-2.06.94z\"/><path d=\"M17.41 7.96l-1.37-1.37c-.4-.4-.92-.59-1.43-.59-.52 0-1.04.2-1.43.59L10.3 9.45l-7.72 7.72c-.78.78-.78 2.05 0 2.83L4 21.41c.39.39.9.59 1.41.59.51 0 1.02-.2 1.41-.59l7.78-7.78 2.81-2.81c.8-.78.8-2.07 0-2.86zM5.41 20L4 18.59l7.72-7.72 1.47 1.35L5.41 20z\"/>\n",
              "  </svg>\n",
              "      </button>\n",
              "      \n",
              "  <style>\n",
              "    .colab-df-container {\n",
              "      display:flex;\n",
              "      flex-wrap:wrap;\n",
              "      gap: 12px;\n",
              "    }\n",
              "\n",
              "    .colab-df-convert {\n",
              "      background-color: #E8F0FE;\n",
              "      border: none;\n",
              "      border-radius: 50%;\n",
              "      cursor: pointer;\n",
              "      display: none;\n",
              "      fill: #1967D2;\n",
              "      height: 32px;\n",
              "      padding: 0 0 0 0;\n",
              "      width: 32px;\n",
              "    }\n",
              "\n",
              "    .colab-df-convert:hover {\n",
              "      background-color: #E2EBFA;\n",
              "      box-shadow: 0px 1px 2px rgba(60, 64, 67, 0.3), 0px 1px 3px 1px rgba(60, 64, 67, 0.15);\n",
              "      fill: #174EA6;\n",
              "    }\n",
              "\n",
              "    [theme=dark] .colab-df-convert {\n",
              "      background-color: #3B4455;\n",
              "      fill: #D2E3FC;\n",
              "    }\n",
              "\n",
              "    [theme=dark] .colab-df-convert:hover {\n",
              "      background-color: #434B5C;\n",
              "      box-shadow: 0px 1px 3px 1px rgba(0, 0, 0, 0.15);\n",
              "      filter: drop-shadow(0px 1px 2px rgba(0, 0, 0, 0.3));\n",
              "      fill: #FFFFFF;\n",
              "    }\n",
              "  </style>\n",
              "\n",
              "      <script>\n",
              "        const buttonEl =\n",
              "          document.querySelector('#df-378fe6e4-383e-4069-b58a-42bc7735e2c8 button.colab-df-convert');\n",
              "        buttonEl.style.display =\n",
              "          google.colab.kernel.accessAllowed ? 'block' : 'none';\n",
              "\n",
              "        async function convertToInteractive(key) {\n",
              "          const element = document.querySelector('#df-378fe6e4-383e-4069-b58a-42bc7735e2c8');\n",
              "          const dataTable =\n",
              "            await google.colab.kernel.invokeFunction('convertToInteractive',\n",
              "                                                     [key], {});\n",
              "          if (!dataTable) return;\n",
              "\n",
              "          const docLinkHtml = 'Like what you see? Visit the ' +\n",
              "            '<a target=\"_blank\" href=https://colab.research.google.com/notebooks/data_table.ipynb>data table notebook</a>'\n",
              "            + ' to learn more about interactive tables.';\n",
              "          element.innerHTML = '';\n",
              "          dataTable['output_type'] = 'display_data';\n",
              "          await google.colab.output.renderOutput(dataTable, element);\n",
              "          const docLink = document.createElement('div');\n",
              "          docLink.innerHTML = docLinkHtml;\n",
              "          element.appendChild(docLink);\n",
              "        }\n",
              "      </script>\n",
              "    </div>\n",
              "  </div>\n",
              "  "
            ]
          },
          "metadata": {},
          "execution_count": 15
        }
      ]
    },
    {
      "cell_type": "code",
      "source": [
        "# Performance table of the test set (20% subset)\n",
        "predictions"
      ],
      "metadata": {
        "colab": {
          "base_uri": "https://localhost:8080/",
          "height": 394
        },
        "id": "jnlvIDuerr6h",
        "outputId": "9551d5fa-b563-4783-d017-669d23eddca8"
      },
      "execution_count": 16,
      "outputs": [
        {
          "output_type": "execute_result",
          "data": {
            "text/plain": [
              "                       Adjusted R-Squared  R-Squared  RMSE  Time Taken\n",
              "Model                                                                 \n",
              "BaggingRegressor                     0.38       0.46  1.16        0.53\n",
              "ExtraTreesRegressor                  0.17       0.27  1.35        7.83\n",
              "ElasticNetCV                         0.15       0.26  1.36        3.66\n",
              "BayesianRidge                        0.15       0.26  1.36        0.14\n",
              "DecisionTreeRegressor                0.12       0.23  1.38        0.17\n",
              "ExtraTreeRegressor                   0.10       0.21  1.40        0.15\n",
              "GammaRegressor                       0.09       0.21  1.40        0.06\n",
              "AdaBoostRegressor                    0.03       0.15  1.45        0.64\n",
              "DummyRegressor                      -0.14      -0.00  1.57        0.03\n",
              "ElasticNet                          -0.14      -0.00  1.57        0.04"
            ],
            "text/html": [
              "\n",
              "  <div id=\"df-c33d08ed-7d5a-43a7-a01f-a7262962d231\">\n",
              "    <div class=\"colab-df-container\">\n",
              "      <div>\n",
              "<style scoped>\n",
              "    .dataframe tbody tr th:only-of-type {\n",
              "        vertical-align: middle;\n",
              "    }\n",
              "\n",
              "    .dataframe tbody tr th {\n",
              "        vertical-align: top;\n",
              "    }\n",
              "\n",
              "    .dataframe thead th {\n",
              "        text-align: right;\n",
              "    }\n",
              "</style>\n",
              "<table border=\"1\" class=\"dataframe\">\n",
              "  <thead>\n",
              "    <tr style=\"text-align: right;\">\n",
              "      <th></th>\n",
              "      <th>Adjusted R-Squared</th>\n",
              "      <th>R-Squared</th>\n",
              "      <th>RMSE</th>\n",
              "      <th>Time Taken</th>\n",
              "    </tr>\n",
              "    <tr>\n",
              "      <th>Model</th>\n",
              "      <th></th>\n",
              "      <th></th>\n",
              "      <th></th>\n",
              "      <th></th>\n",
              "    </tr>\n",
              "  </thead>\n",
              "  <tbody>\n",
              "    <tr>\n",
              "      <th>BaggingRegressor</th>\n",
              "      <td>0.38</td>\n",
              "      <td>0.46</td>\n",
              "      <td>1.16</td>\n",
              "      <td>0.53</td>\n",
              "    </tr>\n",
              "    <tr>\n",
              "      <th>ExtraTreesRegressor</th>\n",
              "      <td>0.17</td>\n",
              "      <td>0.27</td>\n",
              "      <td>1.35</td>\n",
              "      <td>7.83</td>\n",
              "    </tr>\n",
              "    <tr>\n",
              "      <th>ElasticNetCV</th>\n",
              "      <td>0.15</td>\n",
              "      <td>0.26</td>\n",
              "      <td>1.36</td>\n",
              "      <td>3.66</td>\n",
              "    </tr>\n",
              "    <tr>\n",
              "      <th>BayesianRidge</th>\n",
              "      <td>0.15</td>\n",
              "      <td>0.26</td>\n",
              "      <td>1.36</td>\n",
              "      <td>0.14</td>\n",
              "    </tr>\n",
              "    <tr>\n",
              "      <th>DecisionTreeRegressor</th>\n",
              "      <td>0.12</td>\n",
              "      <td>0.23</td>\n",
              "      <td>1.38</td>\n",
              "      <td>0.17</td>\n",
              "    </tr>\n",
              "    <tr>\n",
              "      <th>ExtraTreeRegressor</th>\n",
              "      <td>0.10</td>\n",
              "      <td>0.21</td>\n",
              "      <td>1.40</td>\n",
              "      <td>0.15</td>\n",
              "    </tr>\n",
              "    <tr>\n",
              "      <th>GammaRegressor</th>\n",
              "      <td>0.09</td>\n",
              "      <td>0.21</td>\n",
              "      <td>1.40</td>\n",
              "      <td>0.06</td>\n",
              "    </tr>\n",
              "    <tr>\n",
              "      <th>AdaBoostRegressor</th>\n",
              "      <td>0.03</td>\n",
              "      <td>0.15</td>\n",
              "      <td>1.45</td>\n",
              "      <td>0.64</td>\n",
              "    </tr>\n",
              "    <tr>\n",
              "      <th>DummyRegressor</th>\n",
              "      <td>-0.14</td>\n",
              "      <td>-0.00</td>\n",
              "      <td>1.57</td>\n",
              "      <td>0.03</td>\n",
              "    </tr>\n",
              "    <tr>\n",
              "      <th>ElasticNet</th>\n",
              "      <td>-0.14</td>\n",
              "      <td>-0.00</td>\n",
              "      <td>1.57</td>\n",
              "      <td>0.04</td>\n",
              "    </tr>\n",
              "  </tbody>\n",
              "</table>\n",
              "</div>\n",
              "      <button class=\"colab-df-convert\" onclick=\"convertToInteractive('df-c33d08ed-7d5a-43a7-a01f-a7262962d231')\"\n",
              "              title=\"Convert this dataframe to an interactive table.\"\n",
              "              style=\"display:none;\">\n",
              "        \n",
              "  <svg xmlns=\"http://www.w3.org/2000/svg\" height=\"24px\"viewBox=\"0 0 24 24\"\n",
              "       width=\"24px\">\n",
              "    <path d=\"M0 0h24v24H0V0z\" fill=\"none\"/>\n",
              "    <path d=\"M18.56 5.44l.94 2.06.94-2.06 2.06-.94-2.06-.94-.94-2.06-.94 2.06-2.06.94zm-11 1L8.5 8.5l.94-2.06 2.06-.94-2.06-.94L8.5 2.5l-.94 2.06-2.06.94zm10 10l.94 2.06.94-2.06 2.06-.94-2.06-.94-.94-2.06-.94 2.06-2.06.94z\"/><path d=\"M17.41 7.96l-1.37-1.37c-.4-.4-.92-.59-1.43-.59-.52 0-1.04.2-1.43.59L10.3 9.45l-7.72 7.72c-.78.78-.78 2.05 0 2.83L4 21.41c.39.39.9.59 1.41.59.51 0 1.02-.2 1.41-.59l7.78-7.78 2.81-2.81c.8-.78.8-2.07 0-2.86zM5.41 20L4 18.59l7.72-7.72 1.47 1.35L5.41 20z\"/>\n",
              "  </svg>\n",
              "      </button>\n",
              "      \n",
              "  <style>\n",
              "    .colab-df-container {\n",
              "      display:flex;\n",
              "      flex-wrap:wrap;\n",
              "      gap: 12px;\n",
              "    }\n",
              "\n",
              "    .colab-df-convert {\n",
              "      background-color: #E8F0FE;\n",
              "      border: none;\n",
              "      border-radius: 50%;\n",
              "      cursor: pointer;\n",
              "      display: none;\n",
              "      fill: #1967D2;\n",
              "      height: 32px;\n",
              "      padding: 0 0 0 0;\n",
              "      width: 32px;\n",
              "    }\n",
              "\n",
              "    .colab-df-convert:hover {\n",
              "      background-color: #E2EBFA;\n",
              "      box-shadow: 0px 1px 2px rgba(60, 64, 67, 0.3), 0px 1px 3px 1px rgba(60, 64, 67, 0.15);\n",
              "      fill: #174EA6;\n",
              "    }\n",
              "\n",
              "    [theme=dark] .colab-df-convert {\n",
              "      background-color: #3B4455;\n",
              "      fill: #D2E3FC;\n",
              "    }\n",
              "\n",
              "    [theme=dark] .colab-df-convert:hover {\n",
              "      background-color: #434B5C;\n",
              "      box-shadow: 0px 1px 3px 1px rgba(0, 0, 0, 0.15);\n",
              "      filter: drop-shadow(0px 1px 2px rgba(0, 0, 0, 0.3));\n",
              "      fill: #FFFFFF;\n",
              "    }\n",
              "  </style>\n",
              "\n",
              "      <script>\n",
              "        const buttonEl =\n",
              "          document.querySelector('#df-c33d08ed-7d5a-43a7-a01f-a7262962d231 button.colab-df-convert');\n",
              "        buttonEl.style.display =\n",
              "          google.colab.kernel.accessAllowed ? 'block' : 'none';\n",
              "\n",
              "        async function convertToInteractive(key) {\n",
              "          const element = document.querySelector('#df-c33d08ed-7d5a-43a7-a01f-a7262962d231');\n",
              "          const dataTable =\n",
              "            await google.colab.kernel.invokeFunction('convertToInteractive',\n",
              "                                                     [key], {});\n",
              "          if (!dataTable) return;\n",
              "\n",
              "          const docLinkHtml = 'Like what you see? Visit the ' +\n",
              "            '<a target=\"_blank\" href=https://colab.research.google.com/notebooks/data_table.ipynb>data table notebook</a>'\n",
              "            + ' to learn more about interactive tables.';\n",
              "          element.innerHTML = '';\n",
              "          dataTable['output_type'] = 'display_data';\n",
              "          await google.colab.output.renderOutput(dataTable, element);\n",
              "          const docLink = document.createElement('div');\n",
              "          docLink.innerHTML = docLinkHtml;\n",
              "          element.appendChild(docLink);\n",
              "        }\n",
              "      </script>\n",
              "    </div>\n",
              "  </div>\n",
              "  "
            ]
          },
          "metadata": {},
          "execution_count": 16
        }
      ]
    },
    {
      "cell_type": "markdown",
      "source": [
        "#5. Data Visualization of model performance"
      ],
      "metadata": {
        "id": "wJShdeAUsLJK"
      }
    },
    {
      "cell_type": "code",
      "source": [
        "# Bar plot of R-squared values\n",
        "plt.figure(figsize=(5, 10))\n",
        "sns.set_theme(style='whitegrid')\n",
        "ax = sns.barplot(y=models.index, x='R-Squared', data=models)\n",
        "ax.set(xlim=(0, 1))"
      ],
      "metadata": {
        "colab": {
          "base_uri": "https://localhost:8080/",
          "height": 628
        },
        "id": "prEqZ0rQsOIR",
        "outputId": "bf619ea6-b81c-4386-a459-fad783a2ad56"
      },
      "execution_count": 18,
      "outputs": [
        {
          "output_type": "execute_result",
          "data": {
            "text/plain": [
              "[(0.0, 1.0)]"
            ]
          },
          "metadata": {},
          "execution_count": 18
        },
        {
          "output_type": "display_data",
          "data": {
            "text/plain": [
              "<Figure size 360x720 with 1 Axes>"
            ],
            "image/png": "[encoded data removed]"
          },
          "metadata": {
            "needs_background": "light"
          }
        }
      ]
    },
    {
      "cell_type": "code",
      "source": [
        "# Bar plot of RMSE values\n",
        "plt.figure(figsize=(5, 10))\n",
        "sns.set_theme(style='whitegrid')\n",
        "ax = sns.barplot(y=models.index, x='RMSE', data=models)\n",
        "ax.set(xlim=(0, 1))"
      ],
      "metadata": {
        "colab": {
          "base_uri": "https://localhost:8080/",
          "height": 628
        },
        "id": "eeEtdlF-tGgW",
        "outputId": "95228e6b-0050-4604-cc46-082abc332302"
      },
      "execution_count": 20,
      "outputs": [
        {
          "output_type": "execute_result",
          "data": {
            "text/plain": [
              "[(0.0, 1.0)]"
            ]
          },
          "metadata": {},
          "execution_count": 20
        },
        {
          "output_type": "display_data",
          "data": {
            "text/plain": [
              "<Figure size 360x720 with 1 Axes>"
            ],
            "image/png": "[encoded data removed]"
          },
          "metadata": {}
        }
      ]
    },
    {
      "cell_type": "code",
      "source": [
        "# Bar plot of calculation time\n",
        "plt.figure(figsize=(5, 10))\n",
        "sns.set_theme(style='whitegrid')\n",
        "ax = sns.barplot(y=models.index, x='Time Taken', data=models)\n",
        "ax.set(xlim=(0, 1))"
      ],
      "metadata": {
        "colab": {
          "base_uri": "https://localhost:8080/",
          "height": 628
        },
        "id": "uddXChfatXGF",
        "outputId": "877ea7b6-5bd8-4586-b03f-0cfcad150094"
      },
      "execution_count": 21,
      "outputs": [
        {
          "output_type": "execute_result",
          "data": {
            "text/plain": [
              "[(0.0, 1.0)]"
            ]
          },
          "metadata": {},
          "execution_count": 21
        },
        {
          "output_type": "display_data",
          "data": {
            "text/plain": [
              "<Figure size 360x720 with 1 Axes>"
            ],
            "image/png": "[encoded data removed]"
          },
          "metadata": {}
        }
      ]
    }
  ]
}