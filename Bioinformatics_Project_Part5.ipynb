{
  "nbformat": 4,
  "nbformat_minor": 0,
  "metadata": {
    "colab": {
      "provenance": [],
      "authorship_tag": "ABX9TyO1rtZY4H0hAEC1M8ExVW49",
      "include_colab_link": true
    },
    "kernelspec": {
      "name": "python3",
      "display_name": "Python 3"
    },
    "language_info": {
      "name": "python"
    }
  },
  "cells": [
    {
      "cell_type": "markdown",
      "metadata": {
        "id": "view-in-github",
        "colab_type": "text"
      },
      "source": [
        "<a href=\"https://colab.research.google.com/github/rogerioribeiromacedo/BioInformaticsProject/blob/main/Bioinformatics_Project_Part5.ipynb\" target=\"_parent\"><img src=\"https://colab.research.google.com/assets/colab-badge.svg\" alt=\"Open In Colab\"/></a>"
      ]
    },
    {
      "cell_type": "markdown",
      "source": [
        "In this part, we will be comparing several ML algorithms for build regression models of acetylcholinesterase innhibitors.\n",
        "\n"
      ],
      "metadata": {
        "id": "SISKvuSrgZ8n"
      }
    },
    {
      "cell_type": "markdown",
      "source": [
        "#1. Import libraries"
      ],
      "metadata": {
        "id": "sY00YpangsSz"
      }
    },
    {
      "cell_type": "code",
      "execution_count": 1,
      "metadata": {
        "id": "o6X3h3y1gOW6"
      },
      "outputs": [],
      "source": [
        "! pip install lazypredict &> /dev/null"
      ]
    },
    {
      "cell_type": "code",
      "source": [
        "import pandas as pd\n",
        "import seaborn as sns\n",
        "import numpy as np\n",
        "import matplotlib.pyplot as plt\n",
        "import lazypredict\n",
        "\n",
        "from sklearn.model_selection import train_test_split\n",
        "from lazypredict.Supervised import LazyRegressor"
      ],
      "metadata": {
        "id": "CKoYCVSwhE5Y"
      },
      "execution_count": 3,
      "outputs": []
    },
    {
      "cell_type": "markdown",
      "source": [
        "#2. Load the data set"
      ],
      "metadata": {
        "id": "WlMln2IbhciF"
      }
    },
    {
      "cell_type": "code",
      "source": [],
      "metadata": {
        "id": "rKivw0VJhfFb"
      },
      "execution_count": null,
      "outputs": []
    }
  ]
}