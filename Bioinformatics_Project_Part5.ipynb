{
  "nbformat": 4,
  "nbformat_minor": 0,
  "metadata": {
    "colab": {
      "provenance": [],
      "authorship_tag": "ABX9TyMLPEbeOxGl0nNM5B/wf6Mn",
      "include_colab_link": true
    },
    "kernelspec": {
      "name": "python3",
      "display_name": "Python 3"
    },
    "language_info": {
      "name": "python"
    },
    "accelerator": "GPU",
    "gpuClass": "standard"
  },
  "cells": [
    {
      "cell_type": "markdown",
      "metadata": {
        "id": "view-in-github",
        "colab_type": "text"
      },
      "source": [
        "<a href=\"https://colab.research.google.com/github/rogerioribeiromacedo/BioInformaticsProject/blob/main/Bioinformatics_Project_Part5.ipynb\" target=\"_parent\"><img src=\"https://colab.research.google.com/assets/colab-badge.svg\" alt=\"Open In Colab\"/></a>"
      ]
    },
    {
      "cell_type": "markdown",
      "source": [
        "In this part, we will be comparing several ML algorithms for build regression models of acetylcholinesterase innhibitors.\n",
        "\n"
      ],
      "metadata": {
        "id": "SISKvuSrgZ8n"
      }
    },
    {
      "cell_type": "markdown",
      "source": [
        "#1. Import libraries"
      ],
      "metadata": {
        "id": "sY00YpangsSz"
      }
    },
    {
      "cell_type": "code",
      "execution_count": 1,
      "metadata": {
        "id": "o6X3h3y1gOW6"
      },
      "outputs": [],
      "source": [
        "! pip install lazypredict &> /dev/null"
      ]
    },
    {
      "cell_type": "code",
      "source": [
        "import pandas as pd\n",
        "import seaborn as sns\n",
        "import numpy as np\n",
        "import matplotlib.pyplot as plt\n",
        "import lazypredict\n",
        "\n",
        "from sklearn.model_selection import train_test_split\n",
        "from lazypredict.Supervised import LazyRegressor"
      ],
      "metadata": {
        "id": "CKoYCVSwhE5Y"
      },
      "execution_count": 2,
      "outputs": []
    },
    {
      "cell_type": "markdown",
      "source": [
        "#2. Load the data set"
      ],
      "metadata": {
        "id": "WlMln2IbhciF"
      }
    },
    {
      "cell_type": "code",
      "source": [
        "! wget https://raw.githubusercontent.com/rogerioribeiromacedo/BioInformaticsProject/main/data/acetylcholinesterase_06_bioactivity_data_3class_pIC50_pubchem_fp.csv &> /dev/null"
      ],
      "metadata": {
        "id": "rKivw0VJhfFb"
      },
      "execution_count": 6,
      "outputs": []
    },
    {
      "cell_type": "code",
      "source": [
        "df = pd.read_csv('acetylcholinesterase_06_bioactivity_data_3class_pIC50_pubchem_fp.csv')\n"
      ],
      "metadata": {
        "id": "GAA_Sjo6oomX"
      },
      "execution_count": 3,
      "outputs": []
    },
    {
      "cell_type": "code",
      "source": [
        "X = df.drop('pIC50', axis=1)\n",
        "Y = df.pIC50"
      ],
      "metadata": {
        "id": "PAD5iXTkoxIm"
      },
      "execution_count": 4,
      "outputs": []
    },
    {
      "cell_type": "markdown",
      "source": [
        "# 3. Data pre-processing"
      ],
      "metadata": {
        "id": "kt_lc1tuo4nU"
      }
    },
    {
      "cell_type": "code",
      "source": [
        "# Examine X dimension\n",
        "X.shape"
      ],
      "metadata": {
        "colab": {
          "base_uri": "https://localhost:8080/"
        },
        "id": "a_5vn0tco60v",
        "outputId": "0e60e646-44aa-400f-8337-a1916b195a8a"
      },
      "execution_count": 5,
      "outputs": [
        {
          "output_type": "execute_result",
          "data": {
            "text/plain": [
              "(5823, 881)"
            ]
          },
          "metadata": {},
          "execution_count": 5
        }
      ]
    },
    {
      "cell_type": "code",
      "source": [
        "# Remove low variance features\n",
        "from sklearn.feature_selection import VarianceThreshold\n",
        "selection = VarianceThreshold(threshold=(.8 * (1 - .8)))\n",
        "X = selection.fit_transform(X)\n",
        "X.shape"
      ],
      "metadata": {
        "colab": {
          "base_uri": "https://localhost:8080/"
        },
        "id": "yvODP8llpAH-",
        "outputId": "17a16c59-b524-49b5-f6ed-214c97c1cf89"
      },
      "execution_count": 6,
      "outputs": [
        {
          "output_type": "execute_result",
          "data": {
            "text/plain": [
              "(5823, 143)"
            ]
          },
          "metadata": {},
          "execution_count": 6
        }
      ]
    },
    {
      "cell_type": "code",
      "source": [
        "# Perform data splitting using 80/20 ration\n",
        "X_train, X_test, Y_train, Y_test = train_test_split(X, Y, test_size=0.2)"
      ],
      "metadata": {
        "id": "N2aDBuzppUkv"
      },
      "execution_count": 7,
      "outputs": []
    },
    {
      "cell_type": "markdown",
      "source": [
        "#4. Compare ML algorithms"
      ],
      "metadata": {
        "id": "F_R3QFEMpizW"
      }
    },
    {
      "cell_type": "code",
      "source": [
        "clf = LazyRegressor(verbose=0, ignore_warnings=True, custom_metric=None)\n",
        "train, test = clf.fit(X_train, X_test, Y_train, Y_test)"
      ],
      "metadata": {
        "id": "pkFYbjCmpn4q"
      },
      "execution_count": null,
      "outputs": []
    },
    {
      "cell_type": "code",
      "source": [
        "# Performance table of the training set (80% subset)\n",
        "train"
      ],
      "metadata": {
        "id": "IcLLhCf3rlNI"
      },
      "execution_count": null,
      "outputs": []
    },
    {
      "cell_type": "code",
      "source": [
        "# Performance table of the test set (20% subset)\n",
        "test"
      ],
      "metadata": {
        "id": "jnlvIDuerr6h"
      },
      "execution_count": null,
      "outputs": []
    },
    {
      "cell_type": "markdown",
      "source": [
        "#5. Data Visualization of model performance"
      ],
      "metadata": {
        "id": "wJShdeAUsLJK"
      }
    },
    {
      "cell_type": "code",
      "source": [
        "# Bar plot of R-squared values\n",
        "plt.figure(figsize=(5, 10))\n",
        "sns.set_them(style='whitegrid')\n",
        "ax = sns.barplot(y=train.index, x='R-Squared', data=train)\n",
        "ax.set(xlim=(0, 1))"
      ],
      "metadata": {
        "id": "prEqZ0rQsOIR"
      },
      "execution_count": null,
      "outputs": []
    },
    {
      "cell_type": "code",
      "source": [
        "# Bar plot of RMSE values\n",
        "plt.figure(figsize=(5, 10))\n",
        "sns.set_them(style='whitegrid')\n",
        "ax = sns.barplot(y=train.index, x='RMSE', data=train)\n",
        "ax.set(xlim=(0, 1))"
      ],
      "metadata": {
        "id": "eeEtdlF-tGgW"
      },
      "execution_count": null,
      "outputs": []
    },
    {
      "cell_type": "code",
      "source": [
        "# Bar plot of calculation time\n",
        "plt.figure(figsize=(5, 10))\n",
        "sns.set_them(style='whitegrid')\n",
        "ax = sns.barplot(y=train.index, x='Time Taken', data=train)\n",
        "ax.set(xlim=(0, 1))"
      ],
      "metadata": {
        "id": "uddXChfatXGF"
      },
      "execution_count": null,
      "outputs": []
    }
  ]
}